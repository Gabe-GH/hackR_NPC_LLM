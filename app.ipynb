{
 "cells": [
  {
   "cell_type": "code",
   "execution_count": 21,
   "metadata": {},
   "outputs": [],
   "source": [
    "class NPC:\n",
    "    #implement background, occupation, description, quirks, personality\n",
    "    \n",
    "\n",
    "    #constructor\n",
    "    def __init__(self, background, description, quirks, personality):\n",
    "        self.background = background\n",
    "        self.description = description\n",
    "        self.quirks=quirks\n",
    "        self.personality=personality\n",
    "    \n",
    "    def __init__(self):\n",
    "        self.background = \"\"\n",
    "        self.description = \"\"\n",
    "        self.quirks= \"\"\n",
    "        self.personality=\"\"\n",
    "\n",
    "    def getBackGround(self):\n",
    "        return self.background\n",
    "    def getDescription(self):\n",
    "        return self.description\n",
    "    def getQuirks(self):\n",
    "        return self.quirks\n",
    "    def getPersonality(self):\n",
    "        return self.personality\n",
    "\n",
    "    def setBackGround(self, a):\n",
    "        self.background = a\n",
    "    def setDescription(self, a):\n",
    "        self.description = a\n",
    "    def setQuirks(self, a):\n",
    "        self.quirks = a\n",
    "    def setPersonality(self, a):\n",
    "        self.personality = a\n",
    "\n",
    "    #function\n",
    "    \n",
    "    \n",
    "\n",
    "\n",
    "    "
   ]
  },
  {
   "cell_type": "code",
   "execution_count": 30,
   "metadata": {},
   "outputs": [
    {
     "name": "stdout",
     "output_type": "stream",
     "text": [
      "something\n"
     ]
    }
   ],
   "source": [
    "setting = \"Respond as if you are in skyrim\"\n",
    "\n",
    "# set the setting into api\n",
    "\n",
    "npc1 = NPC()\n",
    "\n",
    "npc1.setBackGround(\"something\")\n",
    "\n",
    "print(npc1.getBackGround())\n",
    "# print(\"hello\")\n",
    "\n",
    "# loop for the intercation\n",
    "\n",
    "while(True):\n",
    "    user_input = (\"What do you want to say to Bob\" )\n",
    "    \n",
    "    if(user_input != \"!exit\" or user_input != \"!next\"):\n",
    "        # run api to compute response \n",
    "        print(\"some response\")\n",
    "    else:\n",
    "        break\n"
   ]
  }
 ],
 "metadata": {
  "kernelspec": {
   "display_name": "Python 3",
   "language": "python",
   "name": "python3"
  },
  "language_info": {
   "codemirror_mode": {
    "name": "ipython",
    "version": 3
   },
   "file_extension": ".py",
   "mimetype": "text/x-python",
   "name": "python",
   "nbconvert_exporter": "python",
   "pygments_lexer": "ipython3",
   "version": "3.10.7"
  }
 },
 "nbformat": 4,
 "nbformat_minor": 2
}
