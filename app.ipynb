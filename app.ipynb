{
 "cells": [
  {
   "cell_type": "code",
   "execution_count": 1,
   "metadata": {},
   "outputs": [
    {
     "ename": "SyntaxError",
     "evalue": "incomplete input (1498797965.py, line 10)",
     "output_type": "error",
     "traceback": [
      "\u001b[1;36m  Cell \u001b[1;32mIn[1], line 10\u001b[1;36m\u001b[0m\n\u001b[1;33m    \u001b[0m\n\u001b[1;37m    ^\u001b[0m\n\u001b[1;31mSyntaxError\u001b[0m\u001b[1;31m:\u001b[0m incomplete input\n"
     ]
    }
   ],
   "source": [
    "class NPC:\n",
    "    #implement background, occupation, description, quirks, personality\n",
    "    \n",
    "\n",
    "    #constructor\n",
    "    def __init__(self, background, description, quirks, personality):\n",
    "        self.background = background\n",
    "        self.description = description\n",
    "        self.quirks=quirks\n",
    "        self.personality=personality\n",
    "    \n",
    "    def __init__(self):\n",
    "        self.background = \"\"\n",
    "        self.description = \"\"\n",
    "        self.quirks= \"\"\n",
    "        self.personality=\"\"\n",
    "\n",
    "    def getBackGround(self):\n",
    "        return self.background\n",
    "    def getDescription(self):\n",
    "        return self.description\n",
    "    def getQuirks(self):\n",
    "        return self.quirks\n",
    "    def getPersonalityG(self):\n",
    "        return self.personality\n",
    "\n",
    "    #function\n",
    "    \n",
    "    \n",
    "\n",
    "\n",
    "    "
   ]
  }
 ],
 "metadata": {
  "kernelspec": {
   "display_name": "Python 3",
   "language": "python",
   "name": "python3"
  },
  "language_info": {
   "codemirror_mode": {
    "name": "ipython",
    "version": 3
   },
   "file_extension": ".py",
   "mimetype": "text/x-python",
   "name": "python",
   "nbconvert_exporter": "python",
   "pygments_lexer": "ipython3",
   "version": "3.11.3"
  }
 },
 "nbformat": 4,
 "nbformat_minor": 2
}
