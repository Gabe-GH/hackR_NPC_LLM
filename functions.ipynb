{
 "cells": [
  {
   "cell_type": "code",
   "execution_count": 10,
   "metadata": {},
   "outputs": [
    {
     "name": "stdout",
     "output_type": "stream",
     "text": [
      "Note: you may need to restart the kernel to use updated packages.\n"
     ]
    },
    {
     "name": "stderr",
     "output_type": "stream",
     "text": [
      "\n",
      "[notice] A new release of pip is available: 23.1.1 -> 23.3.1\n",
      "[notice] To update, run: python.exe -m pip install --upgrade pip\n"
     ]
    }
   ],
   "source": [
    "%pip install -q -r requirements.txt"
   ]
  },
  {
   "cell_type": "code",
   "execution_count": 11,
   "metadata": {},
   "outputs": [],
   "source": [
    "from dotenv import load_dotenv\n",
    "load_dotenv()\n",
    "import openai"
   ]
  },
  {
   "cell_type": "code",
   "execution_count": 12,
   "metadata": {},
   "outputs": [],
   "source": [
    "def get_ai_reply(message, model=\"gpt-3.5-turbo-16k\", system_message=None, temperature=0, message_history=[]):\n",
    "    messages = []\n",
    "\n",
    "    if system_message is not None:\n",
    "        messages += [{\"role\": \"system\", \"content\": system_message}]\n",
    "\n",
    "    if message_history is not None:\n",
    "        messages += message_history\n",
    "\n",
    "    messages += [{\"role\": \"user\", \"content\": message}]\n",
    "\n",
    "    completion = openai.ChatCompletion.create(\n",
    "        model=model,\n",
    "        messages=messages,\n",
    "        temperature=temperature\n",
    "    )\n",
    "\n",
    "    return completion.choices[0].message.content.strip()\n",
    "        "
   ]
  },
  {
   "cell_type": "code",
   "execution_count": 19,
   "metadata": {},
   "outputs": [
    {
     "name": "stdout",
     "output_type": "stream",
     "text": [
      "Name: Wyatt \"Lucky\" Malone\n",
      "Background: Born and raised in a small town in the wild west, Wyatt grew up surrounded by cowboys and outlaws. He learned to ride horses and shoot a gun at a young age, becoming a skilled marksman and a quick draw.\n",
      "\n",
      "Description: Wyatt is a tall and lean man with sun-kissed skin and piercing blue eyes. He sports a rugged beard and keeps his dark brown hair hidden under a worn-out cowboy hat. He wears a faded brown leather duster coat, a red bandana around his neck, and a pair of well-worn cowboy boots.\n",
      "\n",
      "Quirk: Wyatt has a knack for finding hidden treasures. Whether it's a hidden stash of gold or a secret passage, he always seems to stumble upon valuable discoveries when least expected.\n",
      "\n",
      "Personality: Adventurous\n"
     ]
    }
   ],
   "source": [
    "\n",
    "\n",
    "prompt = \"\"\"\n",
    "Make a character with a \n",
    "name: Random Name\n",
    "background: random background in a wild west\n",
    "description: short random appearance\n",
    "quirks: 1 random quirk \n",
    "personality: one word personality\n",
    "\n",
    "\"\"\"\n",
    "\n",
    "input = \"create character\"\n",
    "\n",
    "print(get_ai_reply(input, system_message=prompt))"
   ]
  }
 ],
 "metadata": {
  "kernelspec": {
   "display_name": "Python 3",
   "language": "python",
   "name": "python3"
  },
  "language_info": {
   "codemirror_mode": {
    "name": "ipython",
    "version": 3
   },
   "file_extension": ".py",
   "mimetype": "text/x-python",
   "name": "python",
   "nbconvert_exporter": "python",
   "pygments_lexer": "ipython3",
   "version": "3.11.3"
  }
 },
 "nbformat": 4,
 "nbformat_minor": 2
}
